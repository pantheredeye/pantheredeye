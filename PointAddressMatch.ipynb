{
  "nbformat": 4,
  "nbformat_minor": 0,
  "metadata": {
    "colab": {
      "provenance": [],
      "authorship_tag": "ABX9TyMuo+Zdy1oX4/S9elky9b9P",
      "include_colab_link": true
    },
    "kernelspec": {
      "name": "python3",
      "display_name": "Python 3"
    },
    "language_info": {
      "name": "python"
    }
  },
  "cells": [
    {
      "cell_type": "markdown",
      "metadata": {
        "id": "view-in-github",
        "colab_type": "text"
      },
      "source": [
        "<a href=\"https://colab.research.google.com/github/pantheredeye/pantheredeye/blob/main/PointAddressMatch.ipynb\" target=\"_parent\"><img src=\"https://colab.research.google.com/assets/colab-badge.svg\" alt=\"Open In Colab\"/></a>"
      ]
    },
    {
      "cell_type": "code",
      "source": [
        "pip install fuzzywuzzy"
      ],
      "metadata": {
        "colab": {
          "base_uri": "https://localhost:8080/"
        },
        "id": "c6IdvpCy3HVA",
        "outputId": "adb6b3e9-d29a-4aa5-9bba-af6d46136735"
      },
      "execution_count": 2,
      "outputs": [
        {
          "output_type": "stream",
          "name": "stdout",
          "text": [
            "Collecting fuzzywuzzy\n",
            "  Downloading fuzzywuzzy-0.18.0-py2.py3-none-any.whl (18 kB)\n",
            "Installing collected packages: fuzzywuzzy\n",
            "Successfully installed fuzzywuzzy-0.18.0\n"
          ]
        }
      ]
    },
    {
      "cell_type": "code",
      "source": [
        "pip install python-Levenshtein"
      ],
      "metadata": {
        "colab": {
          "base_uri": "https://localhost:8080/"
        },
        "id": "PD2jsmIAIK-r",
        "outputId": "31b674c6-8198-49ff-e265-30c8fe860c10"
      },
      "execution_count": 4,
      "outputs": [
        {
          "output_type": "stream",
          "name": "stdout",
          "text": [
            "Collecting python-Levenshtein\n",
            "  Downloading python_Levenshtein-0.25.1-py3-none-any.whl (9.4 kB)\n",
            "Collecting Levenshtein==0.25.1 (from python-Levenshtein)\n",
            "  Downloading Levenshtein-0.25.1-cp310-cp310-manylinux_2_17_x86_64.manylinux2014_x86_64.whl (177 kB)\n",
            "\u001b[2K     \u001b[90m━━━━━━━━━━━━━━━━━━━━━━━━━━━━━━━━━━━━━━━━\u001b[0m \u001b[32m177.4/177.4 kB\u001b[0m \u001b[31m3.9 MB/s\u001b[0m eta \u001b[36m0:00:00\u001b[0m\n",
            "\u001b[?25hCollecting rapidfuzz<4.0.0,>=3.8.0 (from Levenshtein==0.25.1->python-Levenshtein)\n",
            "  Downloading rapidfuzz-3.9.0-cp310-cp310-manylinux_2_17_x86_64.manylinux2014_x86_64.whl (3.4 MB)\n",
            "\u001b[2K     \u001b[90m━━━━━━━━━━━━━━━━━━━━━━━━━━━━━━━━━━━━━━━━\u001b[0m \u001b[32m3.4/3.4 MB\u001b[0m \u001b[31m9.3 MB/s\u001b[0m eta \u001b[36m0:00:00\u001b[0m\n",
            "\u001b[?25hInstalling collected packages: rapidfuzz, Levenshtein, python-Levenshtein\n",
            "Successfully installed Levenshtein-0.25.1 python-Levenshtein-0.25.1 rapidfuzz-3.9.0\n"
          ]
        }
      ]
    },
    {
      "cell_type": "code",
      "execution_count": 16,
      "metadata": {
        "id": "dDJTCXYP1hGT"
      },
      "outputs": [],
      "source": [
        "import pandas as pd\n",
        "from fuzzywuzzy import fuzz\n",
        "\n",
        "# Read the Excel worksheets or CSV files\n",
        "occurrences = pd.read_excel('occurrences.xlsx', sheet_name='Sheet2', usecols=['Date', 'Address', 'Offense'])\n",
        "point_addresses = pd.read_excel('point_addresses.xlsx', sheet_name='Sheet1', usecols=['OBJECTID', 'FULL_ADDR'])\n",
        "\n",
        "# Create a dictionary for point addresses\n",
        "point_addr_dict = dict(zip(point_addresses['FULL_ADDR'], point_addresses.index))\n",
        "\n",
        "# Create an empty list to store the matches\n",
        "matches = []\n",
        "\n",
        "# Create a dictionary to store the matched addresses\n",
        "matched_addresses = {}\n",
        "\n",
        "# Loop through each occurrence address\n",
        "for _, row in occurrences.iterrows():\n",
        "    occ_addr = str(row['Address']).strip().upper()  # Convert to string, trim whitespace, and convert to uppercase\n",
        "    date = row['Date']\n",
        "    offense = row['Offense']\n",
        "\n",
        "    # Check if the occurrence address has already been matched\n",
        "    if occ_addr in matched_addresses:\n",
        "        match, object_id, confidence = matched_addresses[occ_addr]\n",
        "        matches.append((date, occ_addr, offense, match, object_id, confidence))\n",
        "        continue\n",
        "\n",
        "    # Step 1: Exact match\n",
        "    if occ_addr in point_addr_dict:\n",
        "        match = occ_addr\n",
        "        object_id = point_addresses.loc[point_addr_dict[occ_addr], 'OBJECTID']\n",
        "        confidence = 100\n",
        "        matched_addresses[occ_addr] = (match, object_id, confidence)\n",
        "        matches.append((date, occ_addr, offense, match, object_id, confidence))\n",
        "        continue\n",
        "\n",
        "    # Step 2: Number match and fuzzy matching\n",
        "    occ_addr_parts = occ_addr.split(maxsplit=1)\n",
        "    if len(occ_addr_parts) == 2:\n",
        "        occ_addr_num, occ_addr_name = occ_addr_parts\n",
        "        filtered_point_addresses = point_addresses[point_addresses['FULL_ADDR'].str.startswith(occ_addr_num)]\n",
        "\n",
        "        if not filtered_point_addresses.empty:\n",
        "            best_match = None\n",
        "            best_confidence = 0\n",
        "\n",
        "            for _, point_row in filtered_point_addresses.iterrows():\n",
        "                point_addr_parts = point_row['FULL_ADDR'].split(maxsplit=1)\n",
        "                if len(point_addr_parts) == 2:\n",
        "                    _, point_addr_name = point_addr_parts\n",
        "                    confidence = fuzz.ratio(occ_addr_name, point_addr_name)\n",
        "                    if confidence > best_confidence:\n",
        "                        best_match = point_row['FULL_ADDR']\n",
        "                        best_confidence = confidence\n",
        "\n",
        "            if best_match:\n",
        "                object_id = point_addresses.loc[point_addresses['FULL_ADDR'] == best_match, 'OBJECTID'].values[0]\n",
        "                matched_addresses[occ_addr] = (best_match, object_id, best_confidence)\n",
        "                matches.append((date, occ_addr, offense, best_match, object_id, best_confidence))\n",
        "                continue\n",
        "\n",
        "    # Step 3: No match\n",
        "    matched_addresses[occ_addr] = ('No Match', None, 0)\n",
        "    matches.append((date, occ_addr, offense, 'No Match', None, 0))\n",
        "\n",
        "# Create a dataframe from the matches list\n",
        "matches_df = pd.DataFrame(matches, columns=['Date', 'OccurrenceAddress', 'Offense', 'MatchedAddress', 'OBJECTID', 'MatchConfidence'])\n",
        "\n",
        "# Save the matches dataframe to a new Excel file or CSV\n",
        "matches_df.to_excel('address_matches.xlsx', index=False)\n",
        "# or\n",
        "# matches_df.to_csv('address_matches.csv', index=False)"
      ]
    }
  ]
}